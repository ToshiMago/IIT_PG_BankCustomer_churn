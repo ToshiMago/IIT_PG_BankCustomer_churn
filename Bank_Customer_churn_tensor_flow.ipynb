{
 "cells": [
  {
   "cell_type": "code",
   "execution_count": 1,
   "metadata": {},
   "outputs": [],
   "source": [
    "import pandas as pd\n",
    "import numpy as np\n",
    "import tensorflow as tf\n",
    "from tensorflow import keras\n",
    "from sklearn.model_selection import train_test_split\n",
    "from sklearn.preprocessing import StandardScaler, OneHotEncoder, LabelEncoder\n",
    "from sklearn.compose import ColumnTransformer\n",
    "from sklearn.pipeline import Pipeline\n",
    "import matplotlib.pyplot as plt"
   ]
  },
  {
   "cell_type": "code",
   "execution_count": 2,
   "metadata": {},
   "outputs": [
    {
     "name": "stdout",
     "output_type": "stream",
     "text": [
      "Dataset 'Bank Customer Churn Prediction.csv' loaded successfully.\n",
      "Initial dataset shape: (10000, 12) (rows, columns)\n",
      "\n",
      "First 5 rows of the dataset:\n",
      "   customer_id  credit_score country  gender  age  tenure    balance  \\\n",
      "0     15634602           619  France  Female   42       2       0.00   \n",
      "1     15647311           608   Spain  Female   41       1   83807.86   \n",
      "2     15619304           502  France  Female   42       8  159660.80   \n",
      "3     15701354           699  France  Female   39       1       0.00   \n",
      "4     15737888           850   Spain  Female   43       2  125510.82   \n",
      "\n",
      "   products_number  credit_card  active_member  estimated_salary  churn  \n",
      "0                1            1              1         101348.88      1  \n",
      "1                1            0              1         112542.58      0  \n",
      "2                3            1              0         113931.57      1  \n",
      "3                2            0              0          93826.63      0  \n",
      "4                1            1              1          79084.10      0  \n",
      "\n",
      "Dataset Information:\n",
      "<class 'pandas.core.frame.DataFrame'>\n",
      "RangeIndex: 10000 entries, 0 to 9999\n",
      "Data columns (total 12 columns):\n",
      " #   Column            Non-Null Count  Dtype  \n",
      "---  ------            --------------  -----  \n",
      " 0   customer_id       10000 non-null  int64  \n",
      " 1   credit_score      10000 non-null  int64  \n",
      " 2   country           10000 non-null  object \n",
      " 3   gender            10000 non-null  object \n",
      " 4   age               10000 non-null  int64  \n",
      " 5   tenure            10000 non-null  int64  \n",
      " 6   balance           10000 non-null  float64\n",
      " 7   products_number   10000 non-null  int64  \n",
      " 8   credit_card       10000 non-null  int64  \n",
      " 9   active_member     10000 non-null  int64  \n",
      " 10  estimated_salary  10000 non-null  float64\n",
      " 11  churn             10000 non-null  int64  \n",
      "dtypes: float64(2), int64(8), object(2)\n",
      "memory usage: 937.6+ KB\n",
      "\n",
      "Missing values before preprocessing:\n",
      "customer_id         0\n",
      "credit_score        0\n",
      "country             0\n",
      "gender              0\n",
      "age                 0\n",
      "tenure              0\n",
      "balance             0\n",
      "products_number     0\n",
      "credit_card         0\n",
      "active_member       0\n",
      "estimated_salary    0\n",
      "churn               0\n",
      "dtype: int64\n"
     ]
    }
   ],
   "source": [
    "# --- 1. Load the Dataset ---\n",
    "# Define the path to your dataset file\n",
    "DATASET_PATH = 'Bank Customer Churn Prediction.csv'\n",
    "df = pd.read_csv(DATASET_PATH)\n",
    "print(f\"Dataset '{DATASET_PATH}' loaded successfully.\")\n",
    "print(f\"Initial dataset shape: {df.shape} (rows, columns)\")\n",
    "print(\"\\nFirst 5 rows of the dataset:\")\n",
    "print(df.head())\n",
    "print(\"\\nDataset Information:\")\n",
    "df.info()\n",
    "print(\"\\nMissing values before preprocessing:\")\n",
    "print(df.isnull().sum())"
   ]
  },
  {
   "cell_type": "code",
   "execution_count": 3,
   "metadata": {},
   "outputs": [
    {
     "data": {
      "text/plain": [
       "customer_id           int64\n",
       "credit_score          int64\n",
       "country              object\n",
       "gender               object\n",
       "age                   int64\n",
       "tenure                int64\n",
       "balance             float64\n",
       "products_number       int64\n",
       "credit_card           int64\n",
       "active_member         int64\n",
       "estimated_salary    float64\n",
       "churn                 int64\n",
       "dtype: object"
      ]
     },
     "execution_count": 3,
     "metadata": {},
     "output_type": "execute_result"
    }
   ],
   "source": [
    "#drop customer_id as we dont need it in the predictions\n",
    "df.drop('customer_id', axis =1)\n",
    "df.dtypes"
   ]
  },
  {
   "cell_type": "code",
   "execution_count": 4,
   "metadata": {},
   "outputs": [
    {
     "name": "stderr",
     "output_type": "stream",
     "text": [
      "/usr/local/anaconda/envs/tensorflow2/lib/python3.6/site-packages/numpy/core/_asarray.py:83: VisibleDeprecationWarning: Creating an ndarray from ragged nested sequences (which is a list-or-tuple of lists-or-tuples-or ndarrays with different lengths or shapes) is deprecated. If you meant to do this, you must specify 'dtype=object' when creating the ndarray\n",
      "  return array(a, dtype, copy=False, order=order)\n"
     ]
    },
    {
     "data": {
      "text/plain": [
       "<matplotlib.legend.Legend at 0x7fd720b692b0>"
      ]
     },
     "execution_count": 4,
     "metadata": {},
     "output_type": "execute_result"
    },
    {
     "data": {
      "image/png": "[encoded data removed]",
      "text/plain": [
       "<Figure size 432x288 with 1 Axes>"
      ]
     },
     "metadata": {
      "needs_background": "light"
     },
     "output_type": "display_data"
    }
   ],
   "source": [
    "# lets plot the customer churn data yes or no depending on the tenure \n",
    "tenure_churn_no = df[df.churn == 0].tenure\n",
    "tenure_churn_yes = df[df.churn ==1].tenure\n",
    "\n",
    "plt.xlabel(\"tenure\")\n",
    "plt.ylabel(\"number of customers\")\n",
    "plt.title(\"Customer churn prediction visualisation\")\n",
    "plt.hist([ tenure_churn_yes, tenure_churn_no], color= ['green', 'red'], label= ['churn = yes', 'churn = no'])\n",
    "plt.legend()"
   ]
  },
  {
   "cell_type": "code",
   "execution_count": 5,
   "metadata": {},
   "outputs": [
    {
     "name": "stdout",
     "output_type": "stream",
     "text": [
      "\n",
      "'Customer ID' column dropped as it's not relevant for prediction.\n",
      "Dataset shape after dropping Customer ID : (10000, 11)\n",
      "Encoded target variable distribution:\n",
      "0    7963\n",
      "1    2037\n",
      "Name: churn, dtype: int64\n"
     ]
    }
   ],
   "source": [
    "if 'customer_id' in df.columns:\n",
    "    df = df.drop('customer_id', axis=1)\n",
    "    print(\"\\n'Customer ID' column dropped as it's not relevant for prediction.\")\n",
    "    print(f\"Dataset shape after dropping Customer ID : {df.shape}\")\n",
    "\n",
    "\n",
    "TARGET_COLUMN = 'churn'\n",
    "\n",
    "print(f\"Encoded target variable distribution:\\n{df[TARGET_COLUMN].value_counts()}\")\n",
    "\n",
    "# Separate features (X) and target (y)\n",
    "X = df.drop(TARGET_COLUMN, axis=1)\n",
    "y = df[TARGET_COLUMN]\n"
   ]
  },
  {
   "cell_type": "code",
   "execution_count": null,
   "metadata": {},
   "outputs": [],
   "source": []
  },
  {
   "cell_type": "code",
   "execution_count": 6,
   "metadata": {},
   "outputs": [
    {
     "name": "stdout",
     "output_type": "stream",
     "text": [
      "\n",
      "Identified numerical features: ['credit_score', 'age', 'tenure', 'balance', 'products_number', 'credit_card', 'active_member', 'estimated_salary']\n",
      "Identified categorical features: ['country', 'gender']\n",
      "\n",
      "Total missing values after imputation: 0 (should be 0)\n"
     ]
    }
   ],
   "source": [
    "# Identify numerical and categorical features for preprocessing\n",
    "numerical_features = X.select_dtypes(include=np.number).columns.tolist()\n",
    "categorical_features = X.select_dtypes(include='object').columns.tolist()\n",
    "\n",
    "print(f\"\\nIdentified numerical features: {numerical_features}\")\n",
    "print(f\"Identified categorical features: {categorical_features}\")\n",
    "\n",
    "# Handle missing values:\n",
    "# For numerical features, we'll impute with the median.\n",
    "# For categorical features, we'll impute with the most frequent value (mode).\n",
    "for col in numerical_features:\n",
    "    if X[col].isnull().any():\n",
    "        median_val = X[col].median()\n",
    "        X[col] = X[col].fillna(median_val)\n",
    "        print(f\"Filled missing values in numerical column '{col}' with median: {median_val}\")\n",
    "\n",
    "for col in categorical_features:\n",
    "    if X[col].isnull().any():\n",
    "        mode_val = X[col].mode()[0]       \n",
    "        X[col] = X[col].fillna(mode_val)\n",
    "        print(f\"Filled missing values in categorical column '{col}' with mode: {mode_val}\")\n",
    "\n",
    "print(f\"\\nTotal missing values after imputation: {X.isnull().sum().sum()} (should be 0)\")\n"
   ]
  },
  {
   "cell_type": "code",
   "execution_count": 7,
   "metadata": {},
   "outputs": [],
   "source": [
    "preprocessor = ColumnTransformer(\n",
    "    transformers=[\n",
    "        ('num', StandardScaler(), numerical_features),\n",
    "        ('cat', OneHotEncoder(handle_unknown='ignore'), categorical_features)\n",
    "    ],\n",
    "    remainder='passthrough' # Keep other columns (if any) that are not specified\n",
    ")"
   ]
  },
  {
   "cell_type": "code",
   "execution_count": 8,
   "metadata": {},
   "outputs": [
    {
     "name": "stdout",
     "output_type": "stream",
     "text": [
      "\n",
      "Number of features after preprocessing (input to the model): 13\n",
      "\n",
      "Shape of training features (X_train): (8000, 13)\n",
      "Shape of training target (y_train): (8000,)\n",
      "Shape of testing features (X_test): (2000, 13)\n",
      "Shape of testing target (y_test): (2000,)\n"
     ]
    }
   ],
   "source": [
    "# Apply the preprocessing to the features\n",
    "X_processed = preprocessor.fit_transform(X)\n",
    "\n",
    "# Get the number of features after preprocessing. This will be the input shape for our Keras model.\n",
    "num_features_after_preprocessing = X_processed.shape[1]\n",
    "print(f\"\\nNumber of features after preprocessing (input to the model): {num_features_after_preprocessing}\")\n",
    "\n",
    "# Split the preprocessed data into training and testing sets.\n",
    "# test_size=0.2 means 20% of the data will be used for testing, 80% for training.\n",
    "# random_state=42 ensures reproducibility of the split.\n",
    "# stratify=y ensures that the proportion of target classes (0s and 1s) is maintained in both train and test sets.\n",
    "X_train, X_test, y_train, y_test = train_test_split(X_processed, y, test_size=0.2, random_state=42, stratify=y)\n",
    "\n",
    "print(f\"\\nShape of training features (X_train): {X_train.shape}\")\n",
    "print(f\"Shape of training target (y_train): {y_train.shape}\")\n",
    "print(f\"Shape of testing features (X_test): {X_test.shape}\")\n",
    "print(f\"Shape of testing target (y_test): {y_test.shape}\")\n",
    "\n"
   ]
  },
  {
   "cell_type": "code",
   "execution_count": 9,
   "metadata": {},
   "outputs": [
    {
     "name": "stdout",
     "output_type": "stream",
     "text": [
      "\n",
      "--- Keras Model Summary ---\n",
      "Model: \"sequential\"\n",
      "_________________________________________________________________\n",
      "Layer (type)                 Output Shape              Param #   \n",
      "=================================================================\n",
      "hidden_layer_1 (Dense)       (None, 100)               1400      \n",
      "_________________________________________________________________\n",
      "hidden_layer_2 (Dense)       (None, 64)                6464      \n",
      "_________________________________________________________________\n",
      "output_layer (Dense)         (None, 1)                 65        \n",
      "=================================================================\n",
      "Total params: 7,929\n",
      "Trainable params: 7,929\n",
      "Non-trainable params: 0\n",
      "_________________________________________________________________\n"
     ]
    }
   ],
   "source": [
    "# --- 3. Build the Keras Model Architecture (using TensorFlow backend) ---\n",
    "# We will create a Sequential model, which is a linear stack of layers.\n",
    "\n",
    "model = keras.Sequential([\n",
    "    # First Hidden Layer:\n",
    "    # - 300 neurons\n",
    "    # - 'relu' (Rectified Linear Unit) activation function: f(x) = max(0, x).\n",
    "    #   It introduces non-linearity, allowing the model to learn complex patterns.\n",
    "    # - input_shape: Specifies the shape of the input data. This is crucial for the first layer.\n",
    "    keras.layers.Dense(100, activation='relu', input_shape=(num_features_after_preprocessing,), name='hidden_layer_1'),\n",
    "\n",
    "    # Second Hidden Layer:\n",
    "    # - 100 neurons\n",
    "    # - 'relu' activation function.\n",
    "    keras.layers.Dense(64, activation='relu', name='hidden_layer_2'),\n",
    "\n",
    "    # Output Layer:\n",
    "    # - 1 neuron: For binary classification (cancer or no cancer), a single output neuron is sufficient.\n",
    "    # - 'sigmoid' activation function: squashes the output to a value between 0 and 1,\n",
    "    #   representing the probability of the positive class (Malignant/Cancer).\n",
    "    keras.layers.Dense(1, activation='sigmoid', name='output_layer')\n",
    "])\n",
    "\n",
    "# Display the model summary. This shows the layers, output shape, and number of parameters.\n",
    "print(\"\\n--- Keras Model Summary ---\")\n",
    "model.summary()"
   ]
  },
  {
   "cell_type": "code",
   "execution_count": 10,
   "metadata": {},
   "outputs": [
    {
     "name": "stdout",
     "output_type": "stream",
     "text": [
      "\n",
      "Model compiled successfully with Adam optimizer, Binary Crossentropy loss, and Accuracy metric.\n"
     ]
    }
   ],
   "source": [
    "# --- 4. Compile the Model ---\n",
    "# Compiling configures the model for training.\n",
    "\n",
    "model.compile(\n",
    "    optimizer='adam',  # Optimizer: Adam is an efficient stochastic gradient descent optimizer.\n",
    "                       # It adapts the learning rate during training, often leading to faster convergence.\n",
    "    loss='binary_crossentropy', # Loss function: Binary Crossentropy is suitable for binary classification\n",
    "                                # problems where the output is a probability (from sigmoid activation).\n",
    "                                # It measures the difference between predicted probabilities and actual binary labels.\n",
    "    metrics=['accuracy'] # Metrics: 'accuracy' will be monitored during training and evaluation.\n",
    "                         # It represents the proportion of correctly classified samples.\n",
    ")\n",
    "print(\"\\nModel compiled successfully with Adam optimizer, Binary Crossentropy loss, and Accuracy metric.\")"
   ]
  },
  {
   "cell_type": "code",
   "execution_count": 11,
   "metadata": {},
   "outputs": [
    {
     "name": "stdout",
     "output_type": "stream",
     "text": [
      "\n",
      "--- Training the Model ---\n",
      "Training for 100 epochs with a batch size of 32.\n",
      "Using 10% of training data for validation during training.\n"
     ]
    }
   ],
   "source": [
    "# --- 5. Train the Model ---\n",
    "# Train the model using the training data.\n",
    "\n",
    "EPOCHS = 100     # Number of times the model will iterate over the entire training dataset.\n",
    "                 # You can experiment with this value. More epochs can lead to better learning,\n",
    "                 # but also to overfitting.\n",
    "BATCH_SIZE = 32  # Number of samples per gradient update. Training is done in mini-batches.\n",
    "                 # Smaller batch sizes can lead to more noisy updates but potentially better generalization.\n",
    "                 # Larger batch sizes can speed up training but might get stuck in local minima.\n",
    "\n",
    "print(f\"\\n--- Training the Model ---\")\n",
    "print(f\"Training for {EPOCHS} epochs with a batch size of {BATCH_SIZE}.\")\n",
    "print(f\"Using 10% of training data for validation during training.\")\n"
   ]
  },
  {
   "cell_type": "code",
   "execution_count": 12,
   "metadata": {},
   "outputs": [
    {
     "name": "stdout",
     "output_type": "stream",
     "text": [
      "Epoch 1/100\n",
      "225/225 [==============================] - 1s 3ms/step - loss: 0.4211 - accuracy: 0.8238 - val_loss: 0.3651 - val_accuracy: 0.8438\n",
      "Epoch 2/100\n",
      "225/225 [==============================] - 1s 2ms/step - loss: 0.3615 - accuracy: 0.8521 - val_loss: 0.3260 - val_accuracy: 0.8675\n",
      "Epoch 3/100\n",
      "225/225 [==============================] - 0s 2ms/step - loss: 0.3491 - accuracy: 0.8571 - val_loss: 0.3121 - val_accuracy: 0.8763\n",
      "Epoch 4/100\n",
      "225/225 [==============================] - 0s 2ms/step - loss: 0.3440 - accuracy: 0.8575 - val_loss: 0.3141 - val_accuracy: 0.8675\n",
      "Epoch 5/100\n",
      "225/225 [==============================] - 0s 2ms/step - loss: 0.3416 - accuracy: 0.8567 - val_loss: 0.3172 - val_accuracy: 0.8725\n",
      "Epoch 6/100\n",
      "225/225 [==============================] - 0s 2ms/step - loss: 0.3362 - accuracy: 0.8608 - val_loss: 0.3236 - val_accuracy: 0.8625\n",
      "Epoch 7/100\n",
      "225/225 [==============================] - 0s 2ms/step - loss: 0.3327 - accuracy: 0.8657 - val_loss: 0.3101 - val_accuracy: 0.8675\n",
      "Epoch 8/100\n",
      "225/225 [==============================] - 0s 2ms/step - loss: 0.3301 - accuracy: 0.8624 - val_loss: 0.3107 - val_accuracy: 0.8712\n",
      "Epoch 9/100\n",
      "225/225 [==============================] - 0s 2ms/step - loss: 0.3265 - accuracy: 0.8657 - val_loss: 0.3108 - val_accuracy: 0.8712\n",
      "Epoch 10/100\n",
      "225/225 [==============================] - 0s 2ms/step - loss: 0.3246 - accuracy: 0.8640 - val_loss: 0.3094 - val_accuracy: 0.8712\n",
      "Epoch 11/100\n",
      "225/225 [==============================] - 0s 2ms/step - loss: 0.3223 - accuracy: 0.8658 - val_loss: 0.3102 - val_accuracy: 0.8687\n",
      "Epoch 12/100\n",
      "225/225 [==============================] - 0s 2ms/step - loss: 0.3197 - accuracy: 0.8656 - val_loss: 0.3108 - val_accuracy: 0.8750\n",
      "Epoch 13/100\n",
      "225/225 [==============================] - 0s 2ms/step - loss: 0.3181 - accuracy: 0.8674 - val_loss: 0.3192 - val_accuracy: 0.8612\n",
      "Epoch 14/100\n",
      "225/225 [==============================] - 0s 2ms/step - loss: 0.3151 - accuracy: 0.8665 - val_loss: 0.3118 - val_accuracy: 0.8737\n",
      "Epoch 15/100\n",
      "225/225 [==============================] - 0s 2ms/step - loss: 0.3131 - accuracy: 0.8667 - val_loss: 0.3129 - val_accuracy: 0.8763\n",
      "Epoch 16/100\n",
      "225/225 [==============================] - 0s 2ms/step - loss: 0.3110 - accuracy: 0.8729 - val_loss: 0.3220 - val_accuracy: 0.8625\n",
      "Epoch 17/100\n",
      "225/225 [==============================] - 0s 2ms/step - loss: 0.3124 - accuracy: 0.8656 - val_loss: 0.3150 - val_accuracy: 0.8600\n",
      "Epoch 18/100\n",
      "225/225 [==============================] - 0s 2ms/step - loss: 0.3082 - accuracy: 0.8715 - val_loss: 0.3162 - val_accuracy: 0.8675\n",
      "Epoch 19/100\n",
      "225/225 [==============================] - 0s 2ms/step - loss: 0.3070 - accuracy: 0.8744 - val_loss: 0.3316 - val_accuracy: 0.8575\n",
      "Epoch 20/100\n",
      "225/225 [==============================] - 0s 2ms/step - loss: 0.3061 - accuracy: 0.8740 - val_loss: 0.3165 - val_accuracy: 0.8737\n",
      "Epoch 21/100\n",
      "225/225 [==============================] - 0s 2ms/step - loss: 0.3052 - accuracy: 0.8724 - val_loss: 0.3177 - val_accuracy: 0.8737\n",
      "Epoch 22/100\n",
      "225/225 [==============================] - 0s 2ms/step - loss: 0.2999 - accuracy: 0.8764 - val_loss: 0.3125 - val_accuracy: 0.8725\n",
      "Epoch 23/100\n",
      "225/225 [==============================] - 0s 2ms/step - loss: 0.2997 - accuracy: 0.8731 - val_loss: 0.3193 - val_accuracy: 0.8712\n",
      "Epoch 24/100\n",
      "225/225 [==============================] - 1s 3ms/step - loss: 0.2985 - accuracy: 0.8749 - val_loss: 0.3184 - val_accuracy: 0.8737\n",
      "Epoch 25/100\n",
      "225/225 [==============================] - 1s 3ms/step - loss: 0.2931 - accuracy: 0.8776 - val_loss: 0.3191 - val_accuracy: 0.8750\n",
      "Epoch 26/100\n",
      "225/225 [==============================] - 0s 2ms/step - loss: 0.2941 - accuracy: 0.8763 - val_loss: 0.3257 - val_accuracy: 0.8662\n",
      "Epoch 27/100\n",
      "225/225 [==============================] - 0s 2ms/step - loss: 0.2919 - accuracy: 0.8781 - val_loss: 0.3245 - val_accuracy: 0.8600\n",
      "Epoch 28/100\n",
      "225/225 [==============================] - 0s 2ms/step - loss: 0.2900 - accuracy: 0.8800 - val_loss: 0.3229 - val_accuracy: 0.8675\n",
      "Epoch 29/100\n",
      "225/225 [==============================] - 0s 2ms/step - loss: 0.2879 - accuracy: 0.8804 - val_loss: 0.3347 - val_accuracy: 0.8562\n",
      "Epoch 30/100\n",
      "225/225 [==============================] - 0s 2ms/step - loss: 0.2852 - accuracy: 0.8800 - val_loss: 0.3250 - val_accuracy: 0.8650\n",
      "Epoch 31/100\n",
      "225/225 [==============================] - 0s 2ms/step - loss: 0.2838 - accuracy: 0.8808 - val_loss: 0.3255 - val_accuracy: 0.8637\n",
      "Epoch 32/100\n",
      "225/225 [==============================] - 0s 2ms/step - loss: 0.2824 - accuracy: 0.8849 - val_loss: 0.3242 - val_accuracy: 0.8612\n",
      "Epoch 33/100\n",
      "225/225 [==============================] - 0s 2ms/step - loss: 0.2798 - accuracy: 0.8828 - val_loss: 0.3305 - val_accuracy: 0.8662\n",
      "Epoch 34/100\n",
      "225/225 [==============================] - 0s 2ms/step - loss: 0.2790 - accuracy: 0.8818 - val_loss: 0.3288 - val_accuracy: 0.8600\n",
      "Epoch 35/100\n",
      "225/225 [==============================] - 0s 2ms/step - loss: 0.2764 - accuracy: 0.8854 - val_loss: 0.3300 - val_accuracy: 0.8625\n",
      "Epoch 36/100\n",
      "225/225 [==============================] - 0s 2ms/step - loss: 0.2723 - accuracy: 0.8865 - val_loss: 0.3532 - val_accuracy: 0.8487\n",
      "Epoch 37/100\n",
      "225/225 [==============================] - 0s 2ms/step - loss: 0.2733 - accuracy: 0.8869 - val_loss: 0.3265 - val_accuracy: 0.8625\n",
      "Epoch 38/100\n",
      "225/225 [==============================] - 0s 2ms/step - loss: 0.2714 - accuracy: 0.8874 - val_loss: 0.3318 - val_accuracy: 0.8675\n",
      "Epoch 39/100\n",
      "225/225 [==============================] - 0s 2ms/step - loss: 0.2693 - accuracy: 0.8860 - val_loss: 0.3324 - val_accuracy: 0.8712\n",
      "Epoch 40/100\n",
      "225/225 [==============================] - 0s 2ms/step - loss: 0.2682 - accuracy: 0.8851 - val_loss: 0.3352 - val_accuracy: 0.8487\n",
      "Epoch 41/100\n",
      "225/225 [==============================] - 0s 2ms/step - loss: 0.2653 - accuracy: 0.8897 - val_loss: 0.3310 - val_accuracy: 0.8662\n",
      "Epoch 42/100\n",
      "225/225 [==============================] - 0s 2ms/step - loss: 0.2631 - accuracy: 0.8900 - val_loss: 0.3387 - val_accuracy: 0.8550\n",
      "Epoch 43/100\n",
      "225/225 [==============================] - 0s 2ms/step - loss: 0.2617 - accuracy: 0.8889 - val_loss: 0.3278 - val_accuracy: 0.8687\n",
      "Epoch 44/100\n",
      "225/225 [==============================] - 0s 2ms/step - loss: 0.2598 - accuracy: 0.8896 - val_loss: 0.3304 - val_accuracy: 0.8687\n",
      "Epoch 45/100\n",
      "225/225 [==============================] - 0s 2ms/step - loss: 0.2582 - accuracy: 0.8922 - val_loss: 0.3418 - val_accuracy: 0.8512\n",
      "Epoch 46/100\n",
      "225/225 [==============================] - 0s 2ms/step - loss: 0.2573 - accuracy: 0.8940 - val_loss: 0.3347 - val_accuracy: 0.8737\n",
      "Epoch 47/100\n",
      "225/225 [==============================] - 0s 2ms/step - loss: 0.2550 - accuracy: 0.8928 - val_loss: 0.3334 - val_accuracy: 0.8587\n",
      "Epoch 48/100\n",
      "225/225 [==============================] - 0s 2ms/step - loss: 0.2537 - accuracy: 0.8951 - val_loss: 0.3405 - val_accuracy: 0.8550\n",
      "Epoch 49/100\n",
      "225/225 [==============================] - 0s 2ms/step - loss: 0.2495 - accuracy: 0.8972 - val_loss: 0.3461 - val_accuracy: 0.8550\n",
      "Epoch 50/100\n",
      "225/225 [==============================] - 0s 2ms/step - loss: 0.2489 - accuracy: 0.8960 - val_loss: 0.3423 - val_accuracy: 0.8550\n",
      "Epoch 51/100\n",
      "225/225 [==============================] - 0s 2ms/step - loss: 0.2479 - accuracy: 0.8989 - val_loss: 0.3426 - val_accuracy: 0.8587\n",
      "Epoch 52/100\n",
      "225/225 [==============================] - 0s 2ms/step - loss: 0.2466 - accuracy: 0.8989 - val_loss: 0.3414 - val_accuracy: 0.8612\n",
      "Epoch 53/100\n",
      "225/225 [==============================] - 0s 2ms/step - loss: 0.2416 - accuracy: 0.8968 - val_loss: 0.3451 - val_accuracy: 0.8600\n",
      "Epoch 54/100\n",
      "225/225 [==============================] - 0s 2ms/step - loss: 0.2439 - accuracy: 0.8964 - val_loss: 0.3552 - val_accuracy: 0.8575\n",
      "Epoch 55/100\n",
      "225/225 [==============================] - 0s 2ms/step - loss: 0.2419 - accuracy: 0.8985 - val_loss: 0.3555 - val_accuracy: 0.8562\n",
      "Epoch 56/100\n",
      "225/225 [==============================] - 0s 2ms/step - loss: 0.2388 - accuracy: 0.8983 - val_loss: 0.3503 - val_accuracy: 0.8525\n",
      "Epoch 57/100\n",
      "225/225 [==============================] - 0s 2ms/step - loss: 0.2359 - accuracy: 0.8994 - val_loss: 0.3511 - val_accuracy: 0.8575\n",
      "Epoch 58/100\n",
      "225/225 [==============================] - 0s 2ms/step - loss: 0.2331 - accuracy: 0.9044 - val_loss: 0.3591 - val_accuracy: 0.8625\n",
      "Epoch 59/100\n",
      "225/225 [==============================] - 0s 2ms/step - loss: 0.2346 - accuracy: 0.9014 - val_loss: 0.3581 - val_accuracy: 0.8625\n",
      "Epoch 60/100\n",
      "225/225 [==============================] - 0s 2ms/step - loss: 0.2332 - accuracy: 0.9015 - val_loss: 0.3595 - val_accuracy: 0.8500\n",
      "Epoch 61/100\n",
      "225/225 [==============================] - 0s 2ms/step - loss: 0.2305 - accuracy: 0.9053 - val_loss: 0.3553 - val_accuracy: 0.8562\n",
      "Epoch 62/100\n",
      "225/225 [==============================] - 0s 2ms/step - loss: 0.2298 - accuracy: 0.9065 - val_loss: 0.3658 - val_accuracy: 0.8537\n",
      "Epoch 63/100\n",
      "225/225 [==============================] - 0s 2ms/step - loss: 0.2292 - accuracy: 0.9068 - val_loss: 0.3596 - val_accuracy: 0.8462\n",
      "Epoch 64/100\n",
      "225/225 [==============================] - 0s 2ms/step - loss: 0.2271 - accuracy: 0.9038 - val_loss: 0.3672 - val_accuracy: 0.8562\n",
      "Epoch 65/100\n",
      "225/225 [==============================] - 0s 2ms/step - loss: 0.2200 - accuracy: 0.9082 - val_loss: 0.3752 - val_accuracy: 0.8537\n",
      "Epoch 66/100\n",
      "225/225 [==============================] - 0s 2ms/step - loss: 0.2224 - accuracy: 0.9072 - val_loss: 0.3824 - val_accuracy: 0.8363\n",
      "Epoch 67/100\n",
      "225/225 [==============================] - 0s 2ms/step - loss: 0.2215 - accuracy: 0.9067 - val_loss: 0.3677 - val_accuracy: 0.8525\n",
      "Epoch 68/100\n",
      "225/225 [==============================] - 0s 2ms/step - loss: 0.2184 - accuracy: 0.9104 - val_loss: 0.3909 - val_accuracy: 0.8363\n",
      "Epoch 69/100\n",
      "225/225 [==============================] - 0s 2ms/step - loss: 0.2159 - accuracy: 0.9122 - val_loss: 0.3798 - val_accuracy: 0.8450\n",
      "Epoch 70/100\n",
      "225/225 [==============================] - 0s 2ms/step - loss: 0.2126 - accuracy: 0.9101 - val_loss: 0.3772 - val_accuracy: 0.8512\n",
      "Epoch 71/100\n",
      "225/225 [==============================] - 0s 2ms/step - loss: 0.2137 - accuracy: 0.9089 - val_loss: 0.3877 - val_accuracy: 0.8575\n",
      "Epoch 72/100\n",
      "225/225 [==============================] - 0s 2ms/step - loss: 0.2122 - accuracy: 0.9103 - val_loss: 0.3866 - val_accuracy: 0.8575\n",
      "Epoch 73/100\n",
      "225/225 [==============================] - 0s 2ms/step - loss: 0.2123 - accuracy: 0.9115 - val_loss: 0.3954 - val_accuracy: 0.8587\n",
      "Epoch 74/100\n",
      "225/225 [==============================] - 0s 2ms/step - loss: 0.2121 - accuracy: 0.9122 - val_loss: 0.3849 - val_accuracy: 0.8425\n",
      "Epoch 75/100\n",
      "225/225 [==============================] - 0s 2ms/step - loss: 0.2078 - accuracy: 0.9135 - val_loss: 0.3915 - val_accuracy: 0.8462\n",
      "Epoch 76/100\n",
      "225/225 [==============================] - 0s 2ms/step - loss: 0.2028 - accuracy: 0.9144 - val_loss: 0.3823 - val_accuracy: 0.8525\n",
      "Epoch 77/100\n",
      "225/225 [==============================] - 0s 2ms/step - loss: 0.2055 - accuracy: 0.9162 - val_loss: 0.3996 - val_accuracy: 0.8575\n",
      "Epoch 78/100\n",
      "225/225 [==============================] - 0s 2ms/step - loss: 0.2030 - accuracy: 0.9149 - val_loss: 0.3958 - val_accuracy: 0.8600\n",
      "Epoch 79/100\n",
      "225/225 [==============================] - 0s 2ms/step - loss: 0.1991 - accuracy: 0.9172 - val_loss: 0.3913 - val_accuracy: 0.8512\n",
      "Epoch 80/100\n",
      "225/225 [==============================] - 0s 2ms/step - loss: 0.1978 - accuracy: 0.9197 - val_loss: 0.3996 - val_accuracy: 0.8363\n",
      "Epoch 81/100\n",
      "225/225 [==============================] - 0s 2ms/step - loss: 0.1970 - accuracy: 0.9183 - val_loss: 0.4104 - val_accuracy: 0.8562\n",
      "Epoch 82/100\n",
      "225/225 [==============================] - 0s 2ms/step - loss: 0.1954 - accuracy: 0.9181 - val_loss: 0.4017 - val_accuracy: 0.8425\n",
      "Epoch 83/100\n",
      "225/225 [==============================] - 0s 2ms/step - loss: 0.1953 - accuracy: 0.9197 - val_loss: 0.4137 - val_accuracy: 0.8512\n",
      "Epoch 84/100\n",
      "225/225 [==============================] - 0s 2ms/step - loss: 0.1938 - accuracy: 0.9199 - val_loss: 0.4109 - val_accuracy: 0.8375\n",
      "Epoch 85/100\n",
      "225/225 [==============================] - 0s 2ms/step - loss: 0.1919 - accuracy: 0.9183 - val_loss: 0.4122 - val_accuracy: 0.8662\n",
      "Epoch 86/100\n",
      "225/225 [==============================] - 0s 2ms/step - loss: 0.1904 - accuracy: 0.9211 - val_loss: 0.4145 - val_accuracy: 0.8363\n",
      "Epoch 87/100\n",
      "225/225 [==============================] - 0s 2ms/step - loss: 0.1887 - accuracy: 0.9190 - val_loss: 0.4125 - val_accuracy: 0.8450\n",
      "Epoch 88/100\n",
      "225/225 [==============================] - 0s 2ms/step - loss: 0.1861 - accuracy: 0.9239 - val_loss: 0.4064 - val_accuracy: 0.8438\n",
      "Epoch 89/100\n",
      "225/225 [==============================] - 0s 2ms/step - loss: 0.1845 - accuracy: 0.9226 - val_loss: 0.4265 - val_accuracy: 0.8388\n",
      "Epoch 90/100\n",
      "225/225 [==============================] - 0s 2ms/step - loss: 0.1830 - accuracy: 0.9231 - val_loss: 0.4217 - val_accuracy: 0.8400\n",
      "Epoch 91/100\n",
      "225/225 [==============================] - 0s 2ms/step - loss: 0.1815 - accuracy: 0.9219 - val_loss: 0.4557 - val_accuracy: 0.8250\n",
      "Epoch 92/100\n",
      "225/225 [==============================] - 0s 2ms/step - loss: 0.1872 - accuracy: 0.9206 - val_loss: 0.4420 - val_accuracy: 0.8425\n",
      "Epoch 93/100\n",
      "225/225 [==============================] - 0s 2ms/step - loss: 0.1804 - accuracy: 0.9267 - val_loss: 0.4360 - val_accuracy: 0.8475\n",
      "Epoch 94/100\n",
      "225/225 [==============================] - 0s 2ms/step - loss: 0.1789 - accuracy: 0.9262 - val_loss: 0.4285 - val_accuracy: 0.8438\n",
      "Epoch 95/100\n",
      "225/225 [==============================] - 0s 2ms/step - loss: 0.1768 - accuracy: 0.9249 - val_loss: 0.4497 - val_accuracy: 0.8300\n",
      "Epoch 96/100\n",
      "225/225 [==============================] - 0s 2ms/step - loss: 0.1758 - accuracy: 0.9282 - val_loss: 0.4448 - val_accuracy: 0.8525\n",
      "Epoch 97/100\n",
      "225/225 [==============================] - 0s 2ms/step - loss: 0.1767 - accuracy: 0.9260 - val_loss: 0.4476 - val_accuracy: 0.8313\n",
      "Epoch 98/100\n",
      "225/225 [==============================] - 0s 2ms/step - loss: 0.1738 - accuracy: 0.9276 - val_loss: 0.4453 - val_accuracy: 0.8313\n",
      "Epoch 99/100\n",
      "225/225 [==============================] - 0s 2ms/step - loss: 0.1751 - accuracy: 0.9258 - val_loss: 0.4383 - val_accuracy: 0.8637\n",
      "Epoch 100/100\n",
      "225/225 [==============================] - 0s 2ms/step - loss: 0.1741 - accuracy: 0.9269 - val_loss: 0.4323 - val_accuracy: 0.8288\n",
      "\n",
      "Model training complete.\n"
     ]
    }
   ],
   "source": [
    "history = model.fit(\n",
    "    X_train, y_train,\n",
    "    epochs=EPOCHS,\n",
    "    batch_size=BATCH_SIZE,\n",
    "    validation_split=0.1, # Reserve 10% of the training data for validation.\n",
    "                          # This helps monitor performance on unseen data during training and detect overfitting.\n",
    "    verbose=1             # Show progress bar during training. Set to 0 for silent, 2 for one line per epoch.\n",
    ")\n",
    "print(\"\\nModel training complete.\")"
   ]
  },
  {
   "cell_type": "code",
   "execution_count": 13,
   "metadata": {},
   "outputs": [
    {
     "data": {
      "image/png": "[encoded data removed]",
      "text/plain": [
       "<Figure size 1008x432 with 2 Axes>"
      ]
     },
     "metadata": {
      "needs_background": "light"
     },
     "output_type": "display_data"
    },
    {
     "name": "stdout",
     "output_type": "stream",
     "text": [
      "\n",
      "Training history plots displayed (Accuracy and Loss).\n"
     ]
    }
   ],
   "source": [
    "# --- 7. Visualize Training History ---\n",
    "# Plot the training and validation accuracy and loss over epochs.\n",
    "# This helps to understand if the model is learning well, overfitting, or underfitting.\n",
    "\n",
    "plt.figure(figsize=(14, 6))\n",
    "\n",
    "# Plot training & validation accuracy values\n",
    "plt.subplot(1, 2, 1)\n",
    "plt.plot(history.history['accuracy'], label='Training Accuracy')\n",
    "plt.plot(history.history['val_accuracy'], label='Validation Accuracy')\n",
    "plt.title('Model Accuracy over Epochs')\n",
    "plt.xlabel('Epoch')\n",
    "plt.ylabel('Accuracy')\n",
    "plt.legend(loc='lower right')\n",
    "plt.grid(True)\n",
    "\n",
    "# Plot training & validation loss values\n",
    "plt.subplot(1, 2, 2)\n",
    "plt.plot(history.history['loss'], label='Training Loss')\n",
    "plt.plot(history.history['val_loss'], label='Validation Loss')\n",
    "plt.title('Model Loss over Epochs')\n",
    "plt.xlabel('Epoch')\n",
    "plt.ylabel('Loss')\n",
    "plt.legend(loc='upper right')\n",
    "plt.grid(True)\n",
    "\n",
    "plt.tight_layout()\n",
    "plt.show()\n",
    "print(\"\\nTraining history plots displayed (Accuracy and Loss).\")"
   ]
  },
  {
   "cell_type": "code",
   "execution_count": null,
   "metadata": {},
   "outputs": [],
   "source": [
    "# --- 8. Make Predictions (Optional) ---\n",
    "# Demonstrate how to use the trained model to make predictions on new, unseen data.\n",
    "\n",
    "print(\"\\n--- Making Predictions ---\")\n",
    "# Let's predict on the first 10 samples from the test set\n",
    "num_predictions_to_show = 10\n",
    "sample_X_test = X_test[:num_predictions_to_show]\n",
    "sample_y_test = y_test.head(num_predictions_to_show).values # Get corresponding true labels\n",
    "sample_y_test"
   ]
  },
  {
   "cell_type": "code",
   "execution_count": 18,
   "metadata": {
    "code_folding": []
   },
   "outputs": [
    {
     "name": "stdout",
     "output_type": "stream",
     "text": [
      "\n",
      "Predictions for the first 10 test samples:\n",
      "Sample 1: True Label: 0 (0), Predicted Probability: 0.0436, predicted Class: 0 (0)\n",
      "Sample 2: True Label: 0 (0), Predicted Probability: 0.0085, predicted Class: 0 (0)\n",
      "Sample 3: True Label: 0 (0), Predicted Probability: 0.0023, predicted Class: 0 (0)\n",
      "Sample 4: True Label: 0 (0), Predicted Probability: 0.0045, predicted Class: 0 (0)\n",
      "Sample 5: True Label: 0 (0), Predicted Probability: 0.0453, predicted Class: 0 (0)\n",
      "Sample 6: True Label: 0 (0), Predicted Probability: 0.0113, predicted Class: 0 (0)\n",
      "Sample 7: True Label: 0 (0), Predicted Probability: 0.0196, predicted Class: 0 (0)\n",
      "Sample 8: True Label: 0 (0), Predicted Probability: 0.3644, predicted Class: 0 (0)\n",
      "Sample 9: True Label: 0 (0), Predicted Probability: 0.9994, predicted Class: 1 (1)\n",
      "Sample 10: True Label: 0 (0), Predicted Probability: 0.0421, predicted Class: 0 (0)\n"
     ]
    }
   ],
   "source": [
    "# Predict probabilities\n",
    "predictions_proba = model.predict(X_test)\n",
    "\n",
    "# Predict probabilities\n",
    "predictions_proba = model.predict(X_test)\n",
    "\n",
    "# Convert probabilities to binary class labels (0 or 1) based on a threshold (e.g., 0.5)\n",
    "predictions_classes = (predictions_proba > 0.5).astype(int).flatten()\n",
    "\n",
    "print(f\"\\nPredictions for the first {num_predictions_to_show} test samples:\")\n",
    "for i in range(num_predictions_to_show):\n",
    "    true_label_text = [sample_y_test[i]][0]\n",
    "   # print(true_label_text)\n",
    "    predicted_label_text =[predictions_classes[i]][0]\n",
    "    print(f\"Sample {i+1}: True Label: {true_label_text} ({sample_y_test[i]}), \"\n",
    "          f\"Predicted Probability: {predictions_proba[i][0]:.4f}, \"\n",
    "          f\"predicted Class: {predicted_label_text} ({predictions_classes[i]})\")\n",
    "    "
   ]
  },
  {
   "cell_type": "code",
   "execution_count": null,
   "metadata": {},
   "outputs": [],
   "source": []
  }
 ],
 "metadata": {
  "kernelspec": {
   "display_name": "tensorflow2",
   "language": "python",
   "name": "tensorflow2"
  },
  "language_info": {
   "codemirror_mode": {
    "name": "ipython",
    "version": 3
   },
   "file_extension": ".py",
   "mimetype": "text/x-python",
   "name": "python",
   "nbconvert_exporter": "python",
   "pygments_lexer": "ipython3",
   "version": "3.6.8"
  },
  "toc": {
   "base_numbering": 1,
   "nav_menu": {},
   "number_sections": true,
   "sideBar": true,
   "skip_h1_title": false,
   "title_cell": "Table of Contents",
   "title_sidebar": "Contents",
   "toc_cell": false,
   "toc_position": {},
   "toc_section_display": true,
   "toc_window_display": false
  }
 },
 "nbformat": 4,
 "nbformat_minor": 2
}
